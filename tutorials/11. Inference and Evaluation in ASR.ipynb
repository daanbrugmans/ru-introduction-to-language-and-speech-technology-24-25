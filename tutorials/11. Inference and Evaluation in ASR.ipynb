{
  "nbformat": 4,
  "nbformat_minor": 0,
  "metadata": {
    "colab": {
      "provenance": []
    },
    "kernelspec": {
      "name": "python3",
      "display_name": "Python 3"
    },
    "language_info": {
      "name": "python"
    },
    "widgets": {
      "application/vnd.jupyter.widget-state+json": {
        "c0399f7b84c5426db4821f67d90dada5": {
          "model_module": "@jupyter-widgets/controls",
          "model_name": "HBoxModel",
          "model_module_version": "1.5.0",
          "state": {
            "_dom_classes": [],
            "_model_module": "@jupyter-widgets/controls",
            "_model_module_version": "1.5.0",
            "_model_name": "HBoxModel",
            "_view_count": null,
            "_view_module": "@jupyter-widgets/controls",
            "_view_module_version": "1.5.0",
            "_view_name": "HBoxView",
            "box_style": "",
            "children": [
              "IPY_MODEL_3a38da765df04440bd4024928f9a23ea",
              "IPY_MODEL_b9572d4bee8149c4ad5e246e03178d21",
              "IPY_MODEL_b803a54360fb4607a5b67bc3818f5742"
            ],
            "layout": "IPY_MODEL_8ed4936d0a73423893d24ec8da13fe35"
          }
        },
        "3a38da765df04440bd4024928f9a23ea": {
          "model_module": "@jupyter-widgets/controls",
          "model_name": "HTMLModel",
          "model_module_version": "1.5.0",
          "state": {
            "_dom_classes": [],
            "_model_module": "@jupyter-widgets/controls",
            "_model_module_version": "1.5.0",
            "_model_name": "HTMLModel",
            "_view_count": null,
            "_view_module": "@jupyter-widgets/controls",
            "_view_module_version": "1.5.0",
            "_view_name": "HTMLView",
            "description": "",
            "description_tooltip": null,
            "layout": "IPY_MODEL_c84248161ba84c69993c8f0c0bbb15e1",
            "placeholder": "​",
            "style": "IPY_MODEL_c8471a186be04ca7a06a2e2b7a5b025e",
            "value": "Downloading builder script: 100%"
          }
        },
        "b9572d4bee8149c4ad5e246e03178d21": {
          "model_module": "@jupyter-widgets/controls",
          "model_name": "FloatProgressModel",
          "model_module_version": "1.5.0",
          "state": {
            "_dom_classes": [],
            "_model_module": "@jupyter-widgets/controls",
            "_model_module_version": "1.5.0",
            "_model_name": "FloatProgressModel",
            "_view_count": null,
            "_view_module": "@jupyter-widgets/controls",
            "_view_module_version": "1.5.0",
            "_view_name": "ProgressView",
            "bar_style": "success",
            "description": "",
            "description_tooltip": null,
            "layout": "IPY_MODEL_59d9d6c8a7a24451a0b51282ca6938f9",
            "max": 4485,
            "min": 0,
            "orientation": "horizontal",
            "style": "IPY_MODEL_f4c19d04f73c455b94368b5f2e5631d3",
            "value": 4485
          }
        },
        "b803a54360fb4607a5b67bc3818f5742": {
          "model_module": "@jupyter-widgets/controls",
          "model_name": "HTMLModel",
          "model_module_version": "1.5.0",
          "state": {
            "_dom_classes": [],
            "_model_module": "@jupyter-widgets/controls",
            "_model_module_version": "1.5.0",
            "_model_name": "HTMLModel",
            "_view_count": null,
            "_view_module": "@jupyter-widgets/controls",
            "_view_module_version": "1.5.0",
            "_view_name": "HTMLView",
            "description": "",
            "description_tooltip": null,
            "layout": "IPY_MODEL_e901e52fd71d49cb8496e57438779eab",
            "placeholder": "​",
            "style": "IPY_MODEL_2c031fb55fc44a13b39bed354c49cb32",
            "value": " 4.49k/4.49k [00:00&lt;00:00, 170kB/s]"
          }
        },
        "8ed4936d0a73423893d24ec8da13fe35": {
          "model_module": "@jupyter-widgets/base",
          "model_name": "LayoutModel",
          "model_module_version": "1.2.0",
          "state": {
            "_model_module": "@jupyter-widgets/base",
            "_model_module_version": "1.2.0",
            "_model_name": "LayoutModel",
            "_view_count": null,
            "_view_module": "@jupyter-widgets/base",
            "_view_module_version": "1.2.0",
            "_view_name": "LayoutView",
            "align_content": null,
            "align_items": null,
            "align_self": null,
            "border": null,
            "bottom": null,
            "display": null,
            "flex": null,
            "flex_flow": null,
            "grid_area": null,
            "grid_auto_columns": null,
            "grid_auto_flow": null,
            "grid_auto_rows": null,
            "grid_column": null,
            "grid_gap": null,
            "grid_row": null,
            "grid_template_areas": null,
            "grid_template_columns": null,
            "grid_template_rows": null,
            "height": null,
            "justify_content": null,
            "justify_items": null,
            "left": null,
            "margin": null,
            "max_height": null,
            "max_width": null,
            "min_height": null,
            "min_width": null,
            "object_fit": null,
            "object_position": null,
            "order": null,
            "overflow": null,
            "overflow_x": null,
            "overflow_y": null,
            "padding": null,
            "right": null,
            "top": null,
            "visibility": null,
            "width": null
          }
        },
        "c84248161ba84c69993c8f0c0bbb15e1": {
          "model_module": "@jupyter-widgets/base",
          "model_name": "LayoutModel",
          "model_module_version": "1.2.0",
          "state": {
            "_model_module": "@jupyter-widgets/base",
            "_model_module_version": "1.2.0",
            "_model_name": "LayoutModel",
            "_view_count": null,
            "_view_module": "@jupyter-widgets/base",
            "_view_module_version": "1.2.0",
            "_view_name": "LayoutView",
            "align_content": null,
            "align_items": null,
            "align_self": null,
            "border": null,
            "bottom": null,
            "display": null,
            "flex": null,
            "flex_flow": null,
            "grid_area": null,
            "grid_auto_columns": null,
            "grid_auto_flow": null,
            "grid_auto_rows": null,
            "grid_column": null,
            "grid_gap": null,
            "grid_row": null,
            "grid_template_areas": null,
            "grid_template_columns": null,
            "grid_template_rows": null,
            "height": null,
            "justify_content": null,
            "justify_items": null,
            "left": null,
            "margin": null,
            "max_height": null,
            "max_width": null,
            "min_height": null,
            "min_width": null,
            "object_fit": null,
            "object_position": null,
            "order": null,
            "overflow": null,
            "overflow_x": null,
            "overflow_y": null,
            "padding": null,
            "right": null,
            "top": null,
            "visibility": null,
            "width": null
          }
        },
        "c8471a186be04ca7a06a2e2b7a5b025e": {
          "model_module": "@jupyter-widgets/controls",
          "model_name": "DescriptionStyleModel",
          "model_module_version": "1.5.0",
          "state": {
            "_model_module": "@jupyter-widgets/controls",
            "_model_module_version": "1.5.0",
            "_model_name": "DescriptionStyleModel",
            "_view_count": null,
            "_view_module": "@jupyter-widgets/base",
            "_view_module_version": "1.2.0",
            "_view_name": "StyleView",
            "description_width": ""
          }
        },
        "59d9d6c8a7a24451a0b51282ca6938f9": {
          "model_module": "@jupyter-widgets/base",
          "model_name": "LayoutModel",
          "model_module_version": "1.2.0",
          "state": {
            "_model_module": "@jupyter-widgets/base",
            "_model_module_version": "1.2.0",
            "_model_name": "LayoutModel",
            "_view_count": null,
            "_view_module": "@jupyter-widgets/base",
            "_view_module_version": "1.2.0",
            "_view_name": "LayoutView",
            "align_content": null,
            "align_items": null,
            "align_self": null,
            "border": null,
            "bottom": null,
            "display": null,
            "flex": null,
            "flex_flow": null,
            "grid_area": null,
            "grid_auto_columns": null,
            "grid_auto_flow": null,
            "grid_auto_rows": null,
            "grid_column": null,
            "grid_gap": null,
            "grid_row": null,
            "grid_template_areas": null,
            "grid_template_columns": null,
            "grid_template_rows": null,
            "height": null,
            "justify_content": null,
            "justify_items": null,
            "left": null,
            "margin": null,
            "max_height": null,
            "max_width": null,
            "min_height": null,
            "min_width": null,
            "object_fit": null,
            "object_position": null,
            "order": null,
            "overflow": null,
            "overflow_x": null,
            "overflow_y": null,
            "padding": null,
            "right": null,
            "top": null,
            "visibility": null,
            "width": null
          }
        },
        "f4c19d04f73c455b94368b5f2e5631d3": {
          "model_module": "@jupyter-widgets/controls",
          "model_name": "ProgressStyleModel",
          "model_module_version": "1.5.0",
          "state": {
            "_model_module": "@jupyter-widgets/controls",
            "_model_module_version": "1.5.0",
            "_model_name": "ProgressStyleModel",
            "_view_count": null,
            "_view_module": "@jupyter-widgets/base",
            "_view_module_version": "1.2.0",
            "_view_name": "StyleView",
            "bar_color": null,
            "description_width": ""
          }
        },
        "e901e52fd71d49cb8496e57438779eab": {
          "model_module": "@jupyter-widgets/base",
          "model_name": "LayoutModel",
          "model_module_version": "1.2.0",
          "state": {
            "_model_module": "@jupyter-widgets/base",
            "_model_module_version": "1.2.0",
            "_model_name": "LayoutModel",
            "_view_count": null,
            "_view_module": "@jupyter-widgets/base",
            "_view_module_version": "1.2.0",
            "_view_name": "LayoutView",
            "align_content": null,
            "align_items": null,
            "align_self": null,
            "border": null,
            "bottom": null,
            "display": null,
            "flex": null,
            "flex_flow": null,
            "grid_area": null,
            "grid_auto_columns": null,
            "grid_auto_flow": null,
            "grid_auto_rows": null,
            "grid_column": null,
            "grid_gap": null,
            "grid_row": null,
            "grid_template_areas": null,
            "grid_template_columns": null,
            "grid_template_rows": null,
            "height": null,
            "justify_content": null,
            "justify_items": null,
            "left": null,
            "margin": null,
            "max_height": null,
            "max_width": null,
            "min_height": null,
            "min_width": null,
            "object_fit": null,
            "object_position": null,
            "order": null,
            "overflow": null,
            "overflow_x": null,
            "overflow_y": null,
            "padding": null,
            "right": null,
            "top": null,
            "visibility": null,
            "width": null
          }
        },
        "2c031fb55fc44a13b39bed354c49cb32": {
          "model_module": "@jupyter-widgets/controls",
          "model_name": "DescriptionStyleModel",
          "model_module_version": "1.5.0",
          "state": {
            "_model_module": "@jupyter-widgets/controls",
            "_model_module_version": "1.5.0",
            "_model_name": "DescriptionStyleModel",
            "_view_count": null,
            "_view_module": "@jupyter-widgets/base",
            "_view_module_version": "1.2.0",
            "_view_name": "StyleView",
            "description_width": ""
          }
        }
      }
    }
  },
  "cells": [
    {
      "cell_type": "markdown",
      "source": [
        "# Introduction to Language and Speech Technology - ReMA (RU)\n",
        "*Seminar 11 - Inference and Evaluation of ASR*\n",
        "\n",
        "Last update: 2024/11/25\n",
        "\n",
        "Aditya Kamlesh Parikh - @aditya.parikh@ru.nl\n"
      ],
      "metadata": {
        "id": "0WZIkt4fP-d6"
      }
    },
    {
      "cell_type": "markdown",
      "source": [
        "In this tutorial we will evaluate some finetuned/trained models. The first important aspect is to choose a relevant evaluation matrix. In ASR, Word-Error-Rate (WER) is one of the most common and used metric."
      ],
      "metadata": {
        "id": "g1-eRmeMQDGa"
      }
    },
    {
      "cell_type": "markdown",
      "source": [
        "From *Wikipedia*:\n",
        "\n",
        "Word error rate (WER) is a common metric of the performance of a speech recognition or machine translation system. The WER metric ranges from 0 to 1, where 0 indicates that the compared pieces of text are exactly identical, and 1 indicates that they are completely different with no similarity. This way, a WER of 0.8 means that there is an 80% error rate for compared sentences.\n",
        "\n",
        "\n",
        "## Formula\n",
        "\n",
        "The formula for WER is:\n",
        "\n",
        "<img src=\"https://latex.codecogs.com/svg.image?\\bg{black}&space;WER=\\frac{S&plus;D&plus;I}{N}\" title=\" WER=\\frac{S+D+I}{N}\" />\n",
        "\n",
        "Where:\n",
        "- **S**: Number of substitutions (when a word in the hypothesis replaces a word in the reference).\n",
        "- **D**: Number of deletions (when a word in the reference is missing in the hypothesis).\n",
        "- **I**: Number of insertions (when an extra word appears in the hypothesis).\n",
        "- **N**: Total number of words in the reference.\n",
        "\n",
        "---\n",
        "\n",
        "## Levenshtein Distance\n",
        "\n",
        "WER uses the Levenshtein Distance to compute the minimum number of operations (insertions, deletions, substitutions) needed to transform one sequence into another.\n",
        "\n",
        "---\n",
        "\n",
        "## Example of WER Calculation\n",
        "\n",
        "### Reference Transcript:\n",
        "`\"the cat sat on the mat\"`\n",
        "\n",
        "### Hypothesis (ASR Output):\n",
        "`\"the cat is on mat\"`\n",
        "\n",
        "### Step 1: Align the sequences\n",
        "\n",
        "| Reference        | the | cat | sat | on  | the | mat |\n",
        "|------------------|-----|-----|-----|-----|-----|-----|\n",
        "| Hypothesis       | the | cat | is  | on  |     | mat |\n",
        "\n",
        "### Step 2: Identify the Errors\n",
        "- **Substitution**: `sat` → `is` (1 substitution)\n",
        "- **Deletion**: `the` (before `mat`) is missing (1 deletion)\n",
        "- **Insertion**: None in this example.\n",
        "\n",
        "### Step 3: Apply the Formula\n",
        "\n",
        "<img src=\"https://latex.codecogs.com/svg.image?\\bg{white}\\text{WER}=\\frac{S&plus;D&plus;I}{N}=\\frac{1&plus;1&plus;0}{6}=0.33\\,(33\\%)\" title=\"\\text{WER}=\\frac{S+D+I}{N}=\\frac{1+1+0}{6}=0.33\\,(33\\%)\" />\n",
        "\n",
        "The Word Error Rate for this example is **33%**.\n",
        "\n"
      ],
      "metadata": {
        "id": "tbTEqMyLVzrE"
      }
    },
    {
      "cell_type": "markdown",
      "source": [
        "To calculate WER, we can use Hugging Face's `evaluate` library"
      ],
      "metadata": {
        "id": "zR4XLNss5Qh_"
      }
    },
    {
      "cell_type": "code",
      "execution_count": null,
      "metadata": {
        "id": "8lRMv9V1LvXe"
      },
      "outputs": [],
      "source": [
        "%%capture\n",
        "! pip install evaluate jiwer"
      ]
    },
    {
      "cell_type": "code",
      "source": [
        "import evaluate\n",
        "\n",
        "# Load the WER metric\n",
        "wer = evaluate.load(\"wer\")\n",
        "\n",
        "# Define reference and hypothesis transcripts\n",
        "reference = [\"the cat sat on the mat\"]\n",
        "hypothesis = [\"the cat is on mat\"]\n",
        "\n",
        "# Calculate WER\n",
        "result = wer.compute(references=reference, predictions=hypothesis)\n",
        "print(f\"WER: {result:.2f}\")"
      ],
      "metadata": {
        "id": "HKY9o__Y5vUR",
        "colab": {
          "base_uri": "https://localhost:8080/",
          "height": 190,
          "referenced_widgets": [
            "c0399f7b84c5426db4821f67d90dada5",
            "3a38da765df04440bd4024928f9a23ea",
            "b9572d4bee8149c4ad5e246e03178d21",
            "b803a54360fb4607a5b67bc3818f5742",
            "8ed4936d0a73423893d24ec8da13fe35",
            "c84248161ba84c69993c8f0c0bbb15e1",
            "c8471a186be04ca7a06a2e2b7a5b025e",
            "59d9d6c8a7a24451a0b51282ca6938f9",
            "f4c19d04f73c455b94368b5f2e5631d3",
            "e901e52fd71d49cb8496e57438779eab",
            "2c031fb55fc44a13b39bed354c49cb32"
          ]
        },
        "outputId": "33d01bd3-7f09-49cc-c60f-3242393d0d63"
      },
      "execution_count": null,
      "outputs": [
        {
          "output_type": "stream",
          "name": "stderr",
          "text": [
            "/usr/local/lib/python3.10/dist-packages/huggingface_hub/utils/_auth.py:94: UserWarning: \n",
            "The secret `HF_TOKEN` does not exist in your Colab secrets.\n",
            "To authenticate with the Hugging Face Hub, create a token in your settings tab (https://huggingface.co/settings/tokens), set it as secret in your Google Colab and restart your session.\n",
            "You will be able to reuse this secret in all of your notebooks.\n",
            "Please note that authentication is recommended but still optional to access public models or datasets.\n",
            "  warnings.warn(\n"
          ]
        },
        {
          "output_type": "display_data",
          "data": {
            "text/plain": [
              "Downloading builder script:   0%|          | 0.00/4.49k [00:00<?, ?B/s]"
            ],
            "application/vnd.jupyter.widget-view+json": {
              "version_major": 2,
              "version_minor": 0,
              "model_id": "c0399f7b84c5426db4821f67d90dada5"
            }
          },
          "metadata": {}
        },
        {
          "output_type": "stream",
          "name": "stdout",
          "text": [
            "WER: 0.33\n"
          ]
        }
      ]
    },
    {
      "cell_type": "code",
      "source": [
        "# Multiple references and hypotheses\n",
        "references = [\n",
        "    \"the cat sat on the mat\",\n",
        "    \"hello world this is a test\",\n",
        "    \"huggingface is awesome\",\n",
        "    \"introduction to language and speech technology\"\n",
        "]\n",
        "hypotheses = [\n",
        "    \"the cat is on mat\",\n",
        "    \"hello this is test\",\n",
        "    \"huggingface awesome\",\n",
        "    \"introdution language and speech\"\n",
        "]\n",
        "\n",
        "# Calculate WER for the batch\n",
        "result = wer.compute(references=references, predictions=hypotheses)\n",
        "print(f\"Batch WER: {result:.2f}\")"
      ],
      "metadata": {
        "id": "3IG30oXv548t",
        "colab": {
          "base_uri": "https://localhost:8080/"
        },
        "outputId": "67ecc7c1-0d91-443b-dead-64407dedc74a"
      },
      "execution_count": null,
      "outputs": [
        {
          "output_type": "stream",
          "name": "stdout",
          "text": [
            "Batch WER: 0.38\n"
          ]
        }
      ]
    },
    {
      "cell_type": "markdown",
      "source": [
        "## Task 1\n",
        "**Task 1: Evaluate Whisper Large and Whisper Tiny Models on the SpeechOcean Test Dataset**\n",
        "\n",
        "Your task is to use two variants of OpenAI's Whisper ASR model—**Whisper Large** and **Whisper Tiny**—and compute and benchmark the Word Error Rate (WER) on the SpeechOcean762 test dataset. This will help you compare the performance of the two models.  \n",
        "\n",
        "\n",
        "\n",
        "You can load the SpeechOcean dataset from huggingface as we did in previous tutorial."
      ],
      "metadata": {
        "id": "n6g3i0XK6Z6L"
      }
    },
    {
      "cell_type": "code",
      "source": [
        "# Add your code here"
      ],
      "metadata": {
        "id": "PZ99Y_vH5ySy"
      },
      "execution_count": null,
      "outputs": []
    },
    {
      "cell_type": "markdown",
      "source": [
        "# SCLITE\n",
        "\n",
        "\n",
        "**SCLITE (Scoring and CLustering of Transcripts Evaluation)** is a tool from the Speech Recognition Scoring Toolkit (SCTK) used to evaluate the accuracy of speech recognition systems.\n",
        "\n",
        "It compares ASR-generated transcriptions (**hypotheses**) against **reference** transcriptions to calculate key metrics such as **Word Error Rate (WER), Sentence Error Rate (SER)**, and more."
      ],
      "metadata": {
        "id": "QvmpDS8N-S85"
      }
    },
    {
      "cell_type": "code",
      "source": [
        "!git clone https://github.com/usnistgov/SCTK.git"
      ],
      "metadata": {
        "colab": {
          "base_uri": "https://localhost:8080/"
        },
        "id": "gjY_vKim6NBd",
        "outputId": "6f94b76b-4ad5-4f71-87d2-4aa26f523f8f"
      },
      "execution_count": null,
      "outputs": [
        {
          "output_type": "stream",
          "name": "stdout",
          "text": [
            "Cloning into 'SCTK'...\n",
            "remote: Enumerating objects: 5487, done.\u001b[K\n",
            "remote: Counting objects: 100% (344/344), done.\u001b[K\n",
            "remote: Compressing objects: 100% (223/223), done.\u001b[K\n",
            "remote: Total 5487 (delta 143), reused 286 (delta 117), pack-reused 5143 (from 1)\u001b[K\n",
            "Receiving objects: 100% (5487/5487), 7.61 MiB | 13.55 MiB/s, done.\n",
            "Resolving deltas: 100% (3827/3827), done.\n"
          ]
        }
      ]
    },
    {
      "cell_type": "code",
      "source": [
        "%%capture\n",
        "!cd SCTK && make config\n",
        "!cd SCTK && make all\n",
        "!cd SCTK && make check\n",
        "!cd SCTK && make install\n",
        "!cd SCTK && make doc"
      ],
      "metadata": {
        "id": "MPjDDQAu9Tu8"
      },
      "execution_count": null,
      "outputs": []
    },
    {
      "cell_type": "markdown",
      "source": [
        "Please dowload the files `reference.stm` and `hypothesis.ctm` from Brightspace and upload them to your Google Colab environment."
      ],
      "metadata": {
        "id": "dQB1_6ZU6u-Q"
      }
    },
    {
      "cell_type": "code",
      "source": [
        "# Make sure the name (path) of the files is the same!!\n",
        "\n",
        "! /content/SCTK/bin/sclite -s -i rm -r /content/reference -h /content/hypothesis.ctm -o all"
      ],
      "metadata": {
        "colab": {
          "base_uri": "https://localhost:8080/"
        },
        "id": "EZbWD2PB_uFA",
        "outputId": "c95afed2-2857-4a94-883b-7c567f39b418"
      },
      "execution_count": null,
      "outputs": [
        {
          "output_type": "stream",
          "name": "stdout",
          "text": [
            "sclite: 2.10 TK Version 1.3\n",
            "Begin alignment of Ref File: '/content/reference.stm' and Hyp File: '/content/hypothesis.ctm'\n",
            "\r    Alignment# 1 for speaker POD1000000004          \r    Alignment# 2 for speaker POD1000000004          \r    Alignment# 3 for speaker POD1000000004          \r    Alignment# 4 for speaker POD1000000004          \r    Alignment# 5 for speaker POD1000000004          \r    Alignment# 6 for speaker POD1000000004          \r    Alignment# 7 for speaker POD1000000004          \r    Alignment# 8 for speaker POD1000000004          \r    Alignment# 9 for speaker POD1000000004          \r    Alignment# 10 for speaker POD1000000004          \r    Alignment# 11 for speaker POD1000000004          \r    Alignment# 12 for speaker POD1000000004          \r    Alignment# 13 for speaker POD1000000004          \r    Alignment# 14 for speaker POD1000000004          \r    Alignment# 15 for speaker POD1000000004          \r    Alignment# 16 for speaker POD1000000004          \r    Alignment# 17 for speaker POD1000000004          \r    Alignment# 18 for speaker POD1000000004          \r    Alignment# 19 for speaker POD1000000004          \n",
            "\n",
            "    Writing scoring report to '/content/hypothesis.ctm.sys'\n",
            "    Writing raw scoring report to '/content/hypothesis.ctm.raw'\n",
            "    Writing string alignments to '/content/hypothesis.ctm.pra'\n",
            "\n",
            "Successful Completion\n"
          ]
        }
      ]
    },
    {
      "cell_type": "markdown",
      "source": [
        "After running SCLITE, check:\n",
        "\n",
        "`.sys` file: For overall WER and SER.\n",
        "\n",
        "`.pra` file: For detailed alignment showing substitutions (S), deletions (D), and insertions (I)."
      ],
      "metadata": {
        "id": "_IYIrjw2GN4A"
      }
    },
    {
      "cell_type": "markdown",
      "source": [
        "# Task 2\n",
        "\n",
        "**Task 2**: Now you already know SCLITE and you already have reference and hypothesis trasncripts of speechocean762 dataset. Your task consists on using the SCLITE tool to calculate insertions, deletions and substitutions."
      ],
      "metadata": {
        "id": "Me8DK41ZGoBJ"
      }
    },
    {
      "cell_type": "code",
      "source": [
        "# Your code here"
      ],
      "metadata": {
        "id": "8pqitAgaFjKn"
      },
      "execution_count": null,
      "outputs": []
    },
    {
      "cell_type": "markdown",
      "source": [
        "# Task 3\n",
        "**Task 3 (optional)**:Also, other similar Python-based tools are available on Github. Please find such repositories and analyse the transcripts."
      ],
      "metadata": {
        "id": "5cEhRoUh6VnA"
      }
    },
    {
      "cell_type": "code",
      "source": [
        "# Your code here"
      ],
      "metadata": {
        "id": "gIflrgQk6W-_"
      },
      "execution_count": null,
      "outputs": []
    }
  ]
}