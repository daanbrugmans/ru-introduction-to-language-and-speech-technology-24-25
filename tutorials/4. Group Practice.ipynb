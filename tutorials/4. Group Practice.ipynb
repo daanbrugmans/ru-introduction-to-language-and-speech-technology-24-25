{
 "cells": [
  {
   "cell_type": "code",
   "execution_count": 13,
   "metadata": {},
   "outputs": [
    {
     "name": "stderr",
     "output_type": "stream",
     "text": [
      "c:\\Users\\Daan\\Documents\\Projecten\\ru-introduction-to-language-and-speech-technology-24-25\\env\\Lib\\site-packages\\transformers\\tokenization_utils_base.py:1601: FutureWarning: `clean_up_tokenization_spaces` was not set. It will be set to `True` by default. This behavior will be depracted in transformers v4.45, and will be then set to `False` by default. For more details check this issue: https://github.com/huggingface/transformers/issues/31884\n",
      "  warnings.warn(\n"
     ]
    },
    {
     "data": {
      "text/html": [
       "<div>\n",
       "<style scoped>\n",
       "    .dataframe tbody tr th:only-of-type {\n",
       "        vertical-align: middle;\n",
       "    }\n",
       "\n",
       "    .dataframe tbody tr th {\n",
       "        vertical-align: top;\n",
       "    }\n",
       "\n",
       "    .dataframe thead th {\n",
       "        text-align: right;\n",
       "    }\n",
       "</style>\n",
       "<table border=\"1\" class=\"dataframe\">\n",
       "  <thead>\n",
       "    <tr style=\"text-align: right;\">\n",
       "      <th></th>\n",
       "      <th>Webscraped</th>\n",
       "      <th>Language</th>\n",
       "    </tr>\n",
       "  </thead>\n",
       "  <tbody>\n",
       "    <tr>\n",
       "      <th>0</th>\n",
       "      <td>&lt;strong&gt;&lt;u&gt;Description&lt;br&gt;&lt;br&gt;&lt;/u&gt;&lt;/strong&gt;Dav...</td>\n",
       "      <td>en</td>\n",
       "    </tr>\n",
       "    <tr>\n",
       "      <th>1</th>\n",
       "      <td>&lt;strong&gt;&lt;u&gt;About Abbott&lt;br&gt;&lt;br&gt;&lt;/u&gt;&lt;/strong&gt;Ab...</td>\n",
       "      <td>en</td>\n",
       "    </tr>\n",
       "    <tr>\n",
       "      <th>2</th>\n",
       "      <td>&lt;strong&gt;&lt;u&gt;About Abbott&lt;br&gt;&lt;br&gt;&lt;/u&gt;&lt;/strong&gt;Ab...</td>\n",
       "      <td>en</td>\n",
       "    </tr>\n",
       "    <tr>\n",
       "      <th>3</th>\n",
       "      <td>Stellenangebotsbeschreibung: &lt;br&gt;Have you hear...</td>\n",
       "      <td>en</td>\n",
       "    </tr>\n",
       "    <tr>\n",
       "      <th>4</th>\n",
       "      <td>Stellenangebotsbeschreibung: &lt;br&gt;Have you hear...</td>\n",
       "      <td>en</td>\n",
       "    </tr>\n",
       "    <tr>\n",
       "      <th>6</th>\n",
       "      <td>The Global Customer Operations Manager (m/f/d)...</td>\n",
       "      <td>en</td>\n",
       "    </tr>\n",
       "    <tr>\n",
       "      <th>7</th>\n",
       "      <td>&lt;strong&gt;&lt;u&gt;Main Duties/Responsibilities&lt;br&gt;&lt;/u...</td>\n",
       "      <td>en</td>\n",
       "    </tr>\n",
       "    <tr>\n",
       "      <th>8</th>\n",
       "      <td>Job Id: 21334722&lt;br&gt;&lt;br&gt;The Project Senior Ana...</td>\n",
       "      <td>en</td>\n",
       "    </tr>\n",
       "    <tr>\n",
       "      <th>9</th>\n",
       "      <td>&lt;strong&gt;Alter Domus&lt;br&gt;&lt;br&gt;&lt;/strong&gt;&lt;strong&gt;&lt;u...</td>\n",
       "      <td>en</td>\n",
       "    </tr>\n",
       "    <tr>\n",
       "      <th>10</th>\n",
       "      <td>Job Advert&lt;br&gt;&lt;br&gt;Much more than you imagine&lt;b...</td>\n",
       "      <td>en</td>\n",
       "    </tr>\n",
       "  </tbody>\n",
       "</table>\n",
       "</div>"
      ],
      "text/plain": [
       "                                           Webscraped Language\n",
       "0   <strong><u>Description<br><br></u></strong>Dav...       en\n",
       "1   <strong><u>About Abbott<br><br></u></strong>Ab...       en\n",
       "2   <strong><u>About Abbott<br><br></u></strong>Ab...       en\n",
       "3   Stellenangebotsbeschreibung: <br>Have you hear...       en\n",
       "4   Stellenangebotsbeschreibung: <br>Have you hear...       en\n",
       "6   The Global Customer Operations Manager (m/f/d)...       en\n",
       "7   <strong><u>Main Duties/Responsibilities<br></u...       en\n",
       "8   Job Id: 21334722<br><br>The Project Senior Ana...       en\n",
       "9   <strong>Alter Domus<br><br></strong><strong><u...       en\n",
       "10  Job Advert<br><br>Much more than you imagine<b...       en"
      ]
     },
     "metadata": {},
     "output_type": "display_data"
    }
   ],
   "source": [
    "import pandas as pd\n",
    "import transformers\n",
    "\n",
    "raw_text_df = pd.read_csv(\"../data/Webscraped raw English.csv\")\n",
    "raw_text_df = raw_text_df[:11]\n",
    "\n",
    "model_ckpt = \"papluca/xlm-roberta-base-language-detection\"\n",
    "ckpt_pipeline = transformers.pipeline(\"text-classification\", model=model_ckpt)\n",
    "\n",
    "raw_text_df[\"Language\"] = raw_text_df[\"Webscraped\"].apply(lambda raw_text: ckpt_pipeline(raw_text, top_k=1, truncation=True)[0][\"label\"])\n",
    "raw_text_df = raw_text_df[raw_text_df[\"Language\"] == \"en\"]\n",
    "\n",
    "display(raw_text_df)"
   ]
  }
 ],
 "metadata": {
  "kernelspec": {
   "display_name": "env",
   "language": "python",
   "name": "python3"
  },
  "language_info": {
   "codemirror_mode": {
    "name": "ipython",
    "version": 3
   },
   "file_extension": ".py",
   "mimetype": "text/x-python",
   "name": "python",
   "nbconvert_exporter": "python",
   "pygments_lexer": "ipython3",
   "version": "3.11.3"
  }
 },
 "nbformat": 4,
 "nbformat_minor": 2
}
